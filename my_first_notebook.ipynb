{
 "cells": [
  {
   "cell_type": "markdown",
   "id": "e8e29bdb",
   "metadata": {},
   "source": [
    "Take me to you leader.\n",
    "\n",
    "Three short cuts for Jupyter NoteBooks are.\n",
    "\n",
    "Run Cell\tCtrl + enter\tCell → Run Cell\n",
    "Copy Cell\tc\tCopy Key\n",
    "Paste Cell\tv\tPaste Key"
   ]
  },
  {
   "cell_type": "code",
   "execution_count": 2,
   "id": "87338846",
   "metadata": {},
   "outputs": [
    {
     "name": "stdout",
     "output_type": "stream",
     "text": [
      "HELLO WORLD!! I COME IN PEACE\n"
     ]
    }
   ],
   "source": [
    "greeting = (\"HELLO WORLD!! I COME IN PEACE\")\n",
    "print(greeting)"
   ]
  },
  {
   "cell_type": "code",
   "execution_count": 3,
   "id": "0d04c139",
   "metadata": {},
   "outputs": [
    {
     "data": {
      "text/plain": [
       "15"
      ]
     },
     "execution_count": 3,
     "metadata": {},
     "output_type": "execute_result"
    }
   ],
   "source": [
    "3*5"
   ]
  },
  {
   "cell_type": "code",
   "execution_count": null,
   "id": "55efc1bd",
   "metadata": {},
   "outputs": [],
   "source": []
  }
 ],
 "metadata": {
  "kernelspec": {
   "display_name": "Python 3 (ipykernel)",
   "language": "python",
   "name": "python3"
  },
  "language_info": {
   "codemirror_mode": {
    "name": "ipython",
    "version": 3
   },
   "file_extension": ".py",
   "mimetype": "text/x-python",
   "name": "python",
   "nbconvert_exporter": "python",
   "pygments_lexer": "ipython3",
   "version": "3.9.7"
  }
 },
 "nbformat": 4,
 "nbformat_minor": 5
}
