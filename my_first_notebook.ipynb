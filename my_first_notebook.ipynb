{
 "cells": [
  {
   "cell_type": "code",
   "execution_count": null,
   "id": "ad494e12",
   "metadata": {},
   "outputs": [],
   "source": [
    "greeting = (\"HELLO WORLD!! I COME IN PEACE\")\n",
    "\n",
    "Take me to you leader.\n",
    "\n",
    "Three short cuts for Jupyter NoteBooks are.\n",
    "\n",
    "Run Cell\tCtrl + enter\tCell → Run Cell\n",
    "Copy Cell\tc\tCopy Key\n",
    "Paste Cell\tv\tPaste Key"
   ]
  }
 ],
 "metadata": {
  "kernelspec": {
   "display_name": "Python 3 (ipykernel)",
   "language": "python",
   "name": "python3"
  },
  "language_info": {
   "codemirror_mode": {
    "name": "ipython",
    "version": 3
   },
   "file_extension": ".py",
   "mimetype": "text/x-python",
   "name": "python",
   "nbconvert_exporter": "python",
   "pygments_lexer": "ipython3",
   "version": "3.9.7"
  }
 },
 "nbformat": 4,
 "nbformat_minor": 5
}
