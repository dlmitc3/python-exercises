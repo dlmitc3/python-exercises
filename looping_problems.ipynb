{
 "cells": [
  {
   "cell_type": "markdown",
   "id": "62657e8a",
   "metadata": {},
   "source": [
    "# 20 Python Data Structure Manipulation Exercises\n",
    "\n",
    "The following questions reference the students data structure below. Write the python code to answer the following questions:\n",
    "\n",
    "1. How many students are there?\n",
    "2. How many students prefer light coffee? For each type of coffee roast?\n",
    "3. How many types of each pet are there?\n",
    "4. How many grades does each student have? Do they all have the same number of grades?\n",
    "5. What is each student's grade average?\n",
    "6. How many pets does each student have?\n",
    "7. How many students are in web development? data science?\n",
    "8. What is the average number of pets for students in web development?\n",
    "9. What is the average pet age for students in data science?\n",
    "10. What is most frequent coffee preference for data science students?\n",
    "11. What is the least frequent coffee preference for web development students?\n",
    "12. What is the average grade for students with at least 2 pets?\n",
    "13. How many students have 3 pets?\n",
    "14. What is the average grade for students with 0 pets?\n",
    "15. What is the average grade for web development students? data science students?\n",
    "16. What is the average grade range (i.e. highest grade - lowest grade) for dark coffee drinkers?\n",
    "17. What is the average number of pets for medium coffee drinkers?\n",
    "18. What is the most common type of pet for web development students?\n",
    "19. What is the average name length?\n",
    "20. What is the highest pet age for light coffee drinkers?"
   ]
  },
  {
   "cell_type": "code",
   "execution_count": 1,
   "id": "dc5eb80a",
   "metadata": {},
   "outputs": [],
   "source": [
    "students = [\n",
    "    {\n",
    "        \"id\": \"100001\",\n",
    "        \"student\": \"Ada Lovelace\",\n",
    "        \"coffee_preference\": \"light\",\n",
    "        \"course\": \"web development\",\n",
    "        \"grades\": [70, 91, 82, 71],\n",
    "        \"pets\": [{\"species\": \"horse\", \"age\": 8}],\n",
    "    },\n",
    "    {\n",
    "        \"id\": \"100002\",\n",
    "        \"student\": \"Thomas Bayes\",\n",
    "        \"coffee_preference\": \"medium\",\n",
    "        \"course\": \"data science\",\n",
    "        \"grades\": [75, 73, 86, 100],\n",
    "        \"pets\": [],\n",
    "    },\n",
    "    {\n",
    "        \"id\": \"100003\",\n",
    "        \"student\": \"Marie Curie\",\n",
    "        \"coffee_preference\": \"light\",\n",
    "        \"course\": \"web development\",\n",
    "        \"grades\": [70, 89, 69, 65],\n",
    "        \"pets\": [{\"species\": \"cat\", \"age\": 0}],\n",
    "    },\n",
    "    {\n",
    "        \"id\": \"100004\",\n",
    "        \"student\": \"Grace Hopper\",\n",
    "        \"coffee_preference\": \"dark\",\n",
    "        \"course\": \"data science\",\n",
    "        \"grades\": [73, 66, 83, 92],\n",
    "        \"pets\": [{\"species\": \"dog\", \"age\": 4}, {\"species\": \"cat\", \"age\": 4}],\n",
    "    },\n",
    "    {\n",
    "        \"id\": \"100005\",\n",
    "        \"student\": \"Alan Turing\",\n",
    "        \"coffee_preference\": \"dark\",\n",
    "        \"course\": \"web development\",\n",
    "        \"grades\": [78, 98, 85, 65],\n",
    "        \"pets\": [\n",
    "            {\"species\": \"horse\", \"age\": 6},\n",
    "            {\"species\": \"horse\", \"age\": 7},\n",
    "            {\"species\": \"dog\", \"age\": 5},\n",
    "        ],\n",
    "    },\n",
    "    {\n",
    "        \"id\": \"100006\",\n",
    "        \"student\": \"Rosalind Franklin\",\n",
    "        \"coffee_preference\": \"dark\",\n",
    "        \"course\": \"data science\",\n",
    "        \"grades\": [76, 70, 96, 81],\n",
    "        \"pets\": [],\n",
    "    },\n",
    "    {\n",
    "        \"id\": \"100007\",\n",
    "        \"student\": \"Elizabeth Blackwell\",\n",
    "        \"coffee_preference\": \"dark\",\n",
    "        \"course\": \"web development\",\n",
    "        \"grades\": [69, 94, 89, 86],\n",
    "        \"pets\": [{\"species\": \"cat\", \"age\": 10}],\n",
    "    },\n",
    "    {\n",
    "        \"id\": \"100008\",\n",
    "        \"student\": \"Rene Descartes\",\n",
    "        \"coffee_preference\": \"medium\",\n",
    "        \"course\": \"data science\",\n",
    "        \"grades\": [87, 79, 90, 99],\n",
    "        \"pets\": [{\"species\": \"cat\", \"age\": 10}, {\"species\": \"cat\", \"age\": 8}],\n",
    "    },\n",
    "    {\n",
    "        \"id\": \"100009\",\n",
    "        \"student\": \"Ahmed Zewail\",\n",
    "        \"coffee_preference\": \"medium\",\n",
    "        \"course\": \"data science\",\n",
    "        \"grades\": [74, 99, 93, 89],\n",
    "        \"pets\": [{\"species\": \"cat\", \"age\": 0}, {\"species\": \"cat\", \"age\": 0}],\n",
    "    },\n",
    "    {\n",
    "        \"id\": \"100010\",\n",
    "        \"student\": \"Chien-Shiung Wu\",\n",
    "        \"coffee_preference\": \"medium\",\n",
    "        \"course\": \"web development\",\n",
    "        \"grades\": [82, 92, 91, 65],\n",
    "        \"pets\": [{\"species\": \"cat\", \"age\": 8}],\n",
    "    },\n",
    "    {\n",
    "        \"id\": \"100011\",\n",
    "        \"student\": \"William Sanford Nye\",\n",
    "        \"coffee_preference\": \"dark\",\n",
    "        \"course\": \"data science\",\n",
    "        \"grades\": [70, 92, 65, 99],\n",
    "        \"pets\": [{\"species\": \"cat\", \"age\": 8}, {\"species\": \"cat\", \"age\": 5}],\n",
    "    },\n",
    "    {\n",
    "        \"id\": \"100012\",\n",
    "        \"student\": \"Carl Sagan\",\n",
    "        \"coffee_preference\": \"medium\",\n",
    "        \"course\": \"data science\",\n",
    "        \"grades\": [100, 86, 91, 87],\n",
    "        \"pets\": [{\"species\": \"cat\", \"age\": 10}],\n",
    "    },\n",
    "    {\n",
    "        \"id\": \"100013\",\n",
    "        \"student\": \"Jane Goodall\",\n",
    "        \"coffee_preference\": \"light\",\n",
    "        \"course\": \"web development\",\n",
    "        \"grades\": [80, 70, 68, 98],\n",
    "        \"pets\": [{\"species\": \"horse\", \"age\": 4}],\n",
    "    },\n",
    "    {\n",
    "        \"id\": \"100014\",\n",
    "        \"student\": \"Richard Feynman\",\n",
    "        \"coffee_preference\": \"medium\",\n",
    "        \"course\": \"web development\",\n",
    "        \"grades\": [73, 99, 86, 98],\n",
    "        \"pets\": [{\"species\": \"dog\", \"age\": 6}],\n",
    "    },\n",
    "]"
   ]
  },
  {
   "cell_type": "code",
   "execution_count": 2,
   "id": "07d6097d",
   "metadata": {},
   "outputs": [
    {
     "data": {
      "text/plain": [
       "14"
      ]
     },
     "execution_count": 2,
     "metadata": {},
     "output_type": "execute_result"
    }
   ],
   "source": [
    "# 1. How many students are there?\n",
    "len(students)\n"
   ]
  },
  {
   "cell_type": "code",
   "execution_count": 3,
   "id": "e534e3c3",
   "metadata": {},
   "outputs": [
    {
     "name": "stdout",
     "output_type": "stream",
     "text": [
      "3 students prefer light roast\n",
      "6 students prefer medium roast\n",
      "5 students prefer dark roast\n"
     ]
    }
   ],
   "source": [
    "# 2. How many students prefer light coffee?\n",
    "# For each type of coffee roast?\n",
    "\n",
    "count_light = 0\n",
    "count_medium = 0\n",
    "count_dark = 0\n",
    "for n in students:\n",
    "    if n[\"coffee_preference\"] == 'light':\n",
    "        count_light += 1\n",
    "    if n[\"coffee_preference\"] == 'medium':\n",
    "        count_medium += 1 \n",
    "    if n[\"coffee_preference\"] == 'dark':\n",
    "        count_dark += 1 \n",
    "\n",
    "print(f'{count_light} students prefer light roast')\n",
    "print(f'{count_medium} students prefer medium roast')\n",
    "print(f'{count_dark} students prefer dark roast')\n",
    "    \n"
   ]
  },
  {
   "cell_type": "code",
   "execution_count": 4,
   "id": "ab8b5954",
   "metadata": {},
   "outputs": [
    {
     "name": "stdout",
     "output_type": "stream",
     "text": [
      "3 dogs\n",
      "4 horses\n",
      "11 cats\n"
     ]
    }
   ],
   "source": [
    "# 3. How many types of each pet are there?\n",
    "\n",
    "Dog = 0\n",
    "Horse = 0\n",
    "Cat = 0\n",
    "\n",
    "for n in students:\n",
    "    for n in n[\"pets\"]:\n",
    "        if n[\"species\"] == 'dog':\n",
    "            Dog += 1\n",
    "        if n[\"species\"] == 'horse':\n",
    "            Horse += 1\n",
    "        if n[\"species\"] == 'cat':\n",
    "            Cat += 1\n",
    "\n",
    "print(f'{Dog} dogs')\n",
    "print(f'{Horse} horses')\n",
    "print(f'{Cat} cats')"
   ]
  },
  {
   "cell_type": "code",
   "execution_count": 5,
   "id": "d00f6ecd",
   "metadata": {},
   "outputs": [
    {
     "name": "stdout",
     "output_type": "stream",
     "text": [
      "[4, 4, 4, 4, 4, 4, 4, 4, 4, 4, 4, 4, 4, 4]\n"
     ]
    }
   ],
   "source": [
    "# 4. How many grades does each student have? \n",
    "# Do they all have the same number of grades?\n",
    "\n",
    "num_of_grades = [len(x['grades']) for x in students]\n",
    " \n",
    "print(num_of_grades)\n"
   ]
  },
  {
   "cell_type": "code",
   "execution_count": 6,
   "id": "6e85013e",
   "metadata": {},
   "outputs": [
    {
     "name": "stdout",
     "output_type": "stream",
     "text": [
      "[78.5, 83.5, 73.25, 78.5, 81.5, 80.75, 84.5, 88.75, 88.75, 82.5, 81.5, 91.0, 79.0, 89.0]\n"
     ]
    }
   ],
   "source": [
    "# 5. What is each student's grade average?\n",
    "\n",
    "grade_sum = [sum(x['grades']) for x in students]\n",
    "grade_len = [len(x['grades']) for x in students]\n",
    "grade_avg = [x / y for x, y in zip(grade_sum, grade_len)]\n",
    " \n",
    "print(grade_avg)"
   ]
  },
  {
   "cell_type": "code",
   "execution_count": 7,
   "id": "dd832a44",
   "metadata": {},
   "outputs": [
    {
     "name": "stdout",
     "output_type": "stream",
     "text": [
      "[1, 0, 1, 2, 3, 0, 1, 2, 2, 1, 2, 1, 1, 1]\n"
     ]
    }
   ],
   "source": [
    "# 6. How many pets does each student have?\n",
    "\n",
    "student_pets = [len(x['pets']) for x in students]\n",
    "print(student_pets)\n"
   ]
  },
  {
   "cell_type": "code",
   "execution_count": 8,
   "id": "466eda3a",
   "metadata": {},
   "outputs": [
    {
     "name": "stdout",
     "output_type": "stream",
     "text": [
      "7 of students in data science\n",
      "7 of students in web development\n"
     ]
    }
   ],
   "source": [
    "# 7. How many students are in web development? data science?\n",
    "\n",
    "ds_count = 0\n",
    "wd_count = 0\n",
    "for n in students:\n",
    "    if n[\"course\"] == 'data science':\n",
    "        ds_count += 1\n",
    "    if n[\"course\"] == 'web development':\n",
    "        wd_count += 1\n",
    "\n",
    "print(f'{ds_count} of students in data science')\n",
    "print(f'{wd_count} of students in web development')"
   ]
  },
  {
   "cell_type": "code",
   "execution_count": 9,
   "id": "bfd1e098",
   "metadata": {},
   "outputs": [
    {
     "name": "stdout",
     "output_type": "stream",
     "text": [
      "The average number of pets for students:\n",
      "1.2857142857142858\n"
     ]
    }
   ],
   "source": [
    "# 8. What is the average number of pets for students in web development?\n",
    "\n",
    "web_pets = []\n",
    "for n in students:\n",
    "    if n[\"course\"] == 'web development':\n",
    "        web_pets.append(len(n['pets'])) \n",
    "\n",
    "x = sum(web_pets)/len(web_pets)\n",
    "print ('The average number of pets for students:'  )\n",
    "print(x)"
   ]
  },
  {
   "cell_type": "code",
   "execution_count": 10,
   "id": "46919aec",
   "metadata": {},
   "outputs": [
    {
     "name": "stdout",
     "output_type": "stream",
     "text": [
      "Pet age average for students in data science: 11.444444444444445.\n",
      "\n"
     ]
    }
   ],
   "source": [
    "# 9. What is the average pet age for students in data science?\n",
    "\n",
    "ds_pet_count = 0\n",
    "ds_pet_age = 0\n",
    "\n",
    "\n",
    "for x in students:\n",
    "    if x['course'] == 'data science':\n",
    "        ds_pet_count += len(x['pets'])\n",
    "    for x in x['pets']:\n",
    "        ds_pet_age += x['age']\n",
    "                \n",
    "                \n",
    "print(f\"Pet age average for students in data science: {ds_pet_age/ds_pet_count}.\\n\")"
   ]
  },
  {
   "cell_type": "code",
   "execution_count": 11,
   "id": "087999a0",
   "metadata": {},
   "outputs": [
    {
     "name": "stdout",
     "output_type": "stream",
     "text": [
      "The most frequent coffee preference is medium coffee.  \n"
     ]
    }
   ],
   "source": [
    "# 10. What is most frequent coffee preference for data science students?\n",
    " \n",
    "light_pref = 0\n",
    "medium_pref = 0\n",
    "dark_pref = 0\n",
    "for x in students:\n",
    "    if x['course'] == 'data science':\n",
    "        if x[\"coffee_preference\"] == 'light':\n",
    "            light_pref += 1\n",
    "        elif x[\"coffee_preference\"] == 'medium':\n",
    "            medium_pref += 1\n",
    "        elif x[\"coffee_preference\"] == 'dark':\n",
    "            dark_pref += 1\n",
    "\n",
    "if light_pref > medium_pref:\n",
    "    if light_pref > dark_pref:\n",
    "        print(\"The most frequent coffee preference is light coffee.  \")\n",
    "    else:\n",
    "        print(\"The most frequent coffee preference is dark coffee.  \")\n",
    "else:\n",
    "    if medium_pref > dark_pref:\n",
    "        print(\"The most frequent coffee preference is medium coffee.  \")\n",
    "    else:\n",
    "        print(\"The most frequent coffee preference is dark coffee.  n\")\n"
   ]
  },
  {
   "cell_type": "code",
   "execution_count": 15,
   "id": "78439bbd",
   "metadata": {},
   "outputs": [
    {
     "name": "stdout",
     "output_type": "stream",
     "text": [
      "Web development least favorit coffee preference is: light coffee  \n"
     ]
    }
   ],
   "source": [
    "# 11. What is the least frequent coffee \n",
    "# preference for web development students?\n",
    "\n",
    "wd_students = 0\n",
    "dark_perf = 0 \n",
    "medium_perf = 0 \n",
    "light_pref = 0\n",
    "\n",
    "for i in students:\n",
    "     if i[\"course\"] == 'web development':\n",
    "        if i[\"coffee_preference\"] == 'light':\n",
    "            light_pref += 1\n",
    "        elif i[\"coffee_preference\"] == 'medium':\n",
    "            medium_pref += 1\n",
    "        elif i[\"coffee_preference\"] == 'dark':\n",
    "            dark_pref += 1\n",
    "\n",
    "if light_pref < medium_pref:\n",
    "    if light_pref < dark_pref:\n",
    "        print(\"Web development least favorit coffee preference is: light coffee  \")\n",
    "    else:\n",
    "        print(\"Web development least favorit coffee preference is: dark coffee  \")\n",
    "else:\n",
    "    if medium_pref < dark_pref:\n",
    "        print(\"Web development least favorit coffee preference is: medium coffee  \")\n",
    "    else:\n",
    "        print(\"Web development least favorit coffee preference is: dark coffee  n\")\n"
   ]
  },
  {
   "cell_type": "code",
   "execution_count": 48,
   "id": "dd3be198",
   "metadata": {},
   "outputs": [
    {
     "name": "stdout",
     "output_type": "stream",
     "text": [
      "[78.5, 83.5, 73.25, 78.5, 81.5, 80.75, 84.5, 88.75, 88.75, 82.5, 81.5, 91.0, 79.0, 89.0]\n",
      "[1, 0, 1, 2, 3, 0, 1, 2, 2, 1, 2, 1, 1, 1]\n"
     ]
    }
   ],
   "source": [
    "# 12. What is the average grade for students \n",
    "# with at least 2 pets?\n",
    "\n",
    "student_pets = [len(student['pets']) for student in students]\n",
    "\n",
    "\n",
    "grade_sum = [sum(x['grades']) for x in students]\n",
    "grade_len = [len(x['grades']) for x in students]\n",
    "grade_avg = [x / y for x, y in zip(grade_sum, grade_len)]\n",
    " \n",
    "print(grade_avg)\n",
    "\n",
    "\n",
    "print(student_pets)\n",
    "\n"
   ]
  },
  {
   "cell_type": "code",
   "execution_count": null,
   "id": "c540668f",
   "metadata": {},
   "outputs": [],
   "source": []
  }
 ],
 "metadata": {
  "kernelspec": {
   "display_name": "Python 3 (ipykernel)",
   "language": "python",
   "name": "python3"
  },
  "language_info": {
   "codemirror_mode": {
    "name": "ipython",
    "version": 3
   },
   "file_extension": ".py",
   "mimetype": "text/x-python",
   "name": "python",
   "nbconvert_exporter": "python",
   "pygments_lexer": "ipython3",
   "version": "3.9.7"
  }
 },
 "nbformat": 4,
 "nbformat_minor": 5
}
