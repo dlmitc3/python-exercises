{
 "cells": [
  {
   "cell_type": "markdown",
   "id": "fed8594f",
   "metadata": {},
   "source": [
    "Exercise 1\n",
    "\n",
    "Import and test 3 of the functions from your functions exercise file. Import each function in a different way:\n",
    "\n",
    "Run an interactive python session and import the module. Call the is_vowel function using the . syntax.\n",
    "\n",
    "Create a file named import_exericses.py. Within this file, use from to import the calculate_tip function directly. Call this function with values you choose and print the result.\n",
    "\n",
    "Create a jupyter notebook named import_exercises.ipynb. Use from to import the get_letter_grade function and give it an alias. Test this function in your notebook.\n",
    "\n",
    "Make sure your code that tests the function imports is run from the same directory that your functions exercise file is in."
   ]
  },
  {
   "cell_type": "code",
   "execution_count": 1,
   "id": "539c78d5",
   "metadata": {},
   "outputs": [
    {
     "name": "stdout",
     "output_type": "stream",
     "text": [
      "Import function_evercises\n"
     ]
    }
   ],
   "source": [
    "import function_exercises"
   ]
  },
  {
   "cell_type": "code",
   "execution_count": 3,
   "id": "d2850abd",
   "metadata": {},
   "outputs": [],
   "source": [
    "from function_exercises import get_letter_grade, is_two, calculate_tip"
   ]
  },
  {
   "cell_type": "code",
   "execution_count": 5,
   "id": "82be4d64",
   "metadata": {},
   "outputs": [
    {
     "data": {
      "text/plain": [
       "'C'"
      ]
     },
     "execution_count": 5,
     "metadata": {},
     "output_type": "execute_result"
    }
   ],
   "source": [
    "get_letter_grade(78)"
   ]
  },
  {
   "cell_type": "code",
   "execution_count": 6,
   "id": "73a93189",
   "metadata": {},
   "outputs": [
    {
     "data": {
      "text/plain": [
       "False"
      ]
     },
     "execution_count": 6,
     "metadata": {},
     "output_type": "execute_result"
    }
   ],
   "source": [
    "is_two(3)"
   ]
  },
  {
   "cell_type": "code",
   "execution_count": 8,
   "id": "456a5137",
   "metadata": {},
   "outputs": [
    {
     "data": {
      "text/plain": [
       "1234"
      ]
     },
     "execution_count": 8,
     "metadata": {},
     "output_type": "execute_result"
    }
   ],
   "source": [
    "function_exercises.handle_commas(\"1,234\")"
   ]
  },
  {
   "cell_type": "markdown",
   "id": "95d665c7",
   "metadata": {},
   "source": [
    "Exercise 2\n",
    "\n",
    "Read about and use the itertools module from the python standard library to help you solve the following problems:\n",
    "How many different ways can you combine the letters from \"abc\" with the numbers 1, 2, and 3?\n",
    "How many different combinations are there of 2 letters from \"abcd\"?\n",
    "How many different permutations are there of 2 letters from \"abcd\"?"
   ]
  },
  {
   "cell_type": "code",
   "execution_count": 9,
   "id": "714388d0",
   "metadata": {},
   "outputs": [],
   "source": [
    "import itertools"
   ]
  },
  {
   "cell_type": "code",
   "execution_count": 10,
   "id": "4f668c5d",
   "metadata": {},
   "outputs": [
    {
     "data": {
      "text/plain": [
       "[('a', '1'),\n",
       " ('a', '2'),\n",
       " ('a', '3'),\n",
       " ('b', '1'),\n",
       " ('b', '2'),\n",
       " ('b', '3'),\n",
       " ('c', '1'),\n",
       " ('c', '2'),\n",
       " ('c', '3')]"
      ]
     },
     "execution_count": 10,
     "metadata": {},
     "output_type": "execute_result"
    }
   ],
   "source": [
    "list(itertools.product(\"abc\", \"123\"))"
   ]
  },
  {
   "cell_type": "code",
   "execution_count": 11,
   "id": "f1ecee45",
   "metadata": {},
   "outputs": [
    {
     "data": {
      "text/plain": [
       "[('a', 'b'), ('a', 'c'), ('a', 'd'), ('b', 'c'), ('b', 'd'), ('c', 'd')]"
      ]
     },
     "execution_count": 11,
     "metadata": {},
     "output_type": "execute_result"
    }
   ],
   "source": [
    "list(itertools.combinations(\"abcd\", 2))"
   ]
  },
  {
   "cell_type": "code",
   "execution_count": 12,
   "id": "f146a1f6",
   "metadata": {},
   "outputs": [
    {
     "data": {
      "text/plain": [
       "[('a', 'b'),\n",
       " ('a', 'c'),\n",
       " ('a', 'd'),\n",
       " ('b', 'a'),\n",
       " ('b', 'c'),\n",
       " ('b', 'd'),\n",
       " ('c', 'a'),\n",
       " ('c', 'b'),\n",
       " ('c', 'd'),\n",
       " ('d', 'a'),\n",
       " ('d', 'b'),\n",
       " ('d', 'c')]"
      ]
     },
     "execution_count": 12,
     "metadata": {},
     "output_type": "execute_result"
    }
   ],
   "source": [
    "list(itertools.permutations(\"abcd\", 2))"
   ]
  },
  {
   "cell_type": "code",
   "execution_count": null,
   "id": "9c2f89c2",
   "metadata": {},
   "outputs": [],
   "source": []
  }
 ],
 "metadata": {
  "kernelspec": {
   "display_name": "Python 3 (ipykernel)",
   "language": "python",
   "name": "python3"
  },
  "language_info": {
   "codemirror_mode": {
    "name": "ipython",
    "version": 3
   },
   "file_extension": ".py",
   "mimetype": "text/x-python",
   "name": "python",
   "nbconvert_exporter": "python",
   "pygments_lexer": "ipython3",
   "version": "3.9.7"
  }
 },
 "nbformat": 4,
 "nbformat_minor": 5
}
